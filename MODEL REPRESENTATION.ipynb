{
 "cells": [
  {
   "cell_type": "markdown",
   "id": "e90da5dd",
   "metadata": {},
   "source": [
    "# MODEL REPRESENTATION\n",
    "Model Representation: The model representation refers to the way a machine learning algorithm or model is designed to learn and make predictions. This representation varies depending on the type of machine learning algorithm you're using (e.g., linear regression, neural networks, decision trees, etc.). Here are some common elements of a model representation:\n",
    "Features: Features, also known as input variables, are the characteristics or attributes of the data that the model uses for prediction. Features are represented as vectors or arrays. In the case of structured data, features might correspond to columns in a dataset, while in natural language processing, features could be words or phrases.\n",
    "Parameters: Parameters are the variables that the model learns during the training process. These are the coefficients or weights associated with each feature. In linear regression, for example, you have a weight for each feature, and in neural networks, you have weights and biases for each neuron in the network.\n",
    "Hypothesis/Model Function: The model representation includes a hypothesis or model function that defines how the features and parameters are combined to make predictions. This function varies depending on the model type. For example, in linear regression, the hypothesis is a linear equation, while in neural networks, it involves multiple layers of non-linear transformations.\n",
    "2. Cost Function (Loss Function):\n",
    "The cost function, also known as the loss function, is a critical component of machine learning. It measures the difference between the model's predictions and the actual target values (ground truth) during the training process. The goal of training a machine learning model is to minimize the cost function. Here are the key elements of a cost function:\n",
    "Prediction (Output): The model makes predictions based on the given input features and current parameter values. These predictions are denoted as ŷ. \n",
    "True Labels (Targets): These are the actual, observed values or labels that the model is trying to predict. They are typically denoted as y.\n",
    "Cost Function Formulation: The cost function calculates a single scalar value that quantifies the error between the predicted values (ŷ) and the true labels (y). The choice of cost function depends on the specific task. Common cost functions include mean squared error (MSE) for regression problems and cross-entropy for classification problems.\n",
    "Optimization: Machine learning algorithms use optimization techniques (e.g., gradient descent) to update the model's parameters (weights and biases) iteratively, aiming to minimize the cost function. The gradient of the cost function with respect to the model parameters helps in this process.\n",
    "\n"
   ]
  }
 ],
 "metadata": {
  "kernelspec": {
   "display_name": "Python 3 (ipykernel)",
   "language": "python",
   "name": "python3"
  },
  "language_info": {
   "codemirror_mode": {
    "name": "ipython",
    "version": 3
   },
   "file_extension": ".py",
   "mimetype": "text/x-python",
   "name": "python",
   "nbconvert_exporter": "python",
   "pygments_lexer": "ipython3",
   "version": "3.11.4"
  }
 },
 "nbformat": 4,
 "nbformat_minor": 5
}
